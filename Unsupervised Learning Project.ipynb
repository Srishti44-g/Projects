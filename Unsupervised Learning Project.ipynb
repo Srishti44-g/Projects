{
 "cells": [
  {
   "cell_type": "markdown",
   "id": "251d6b03",
   "metadata": {},
   "source": [
    "# UNSUPERVISED LEARNING PROJECT"
   ]
  },
  {
   "cell_type": "markdown",
   "id": "47a928ee",
   "metadata": {},
   "source": [
    "# Data Description"
   ]
  },
  {
   "cell_type": "markdown",
   "id": "d5a47f3b",
   "metadata": {},
   "source": [
    "The data contains features extracted from the silhouette of vehicles in different angles. Four \"Corgie\" model vehicles were used for the experiment: a double decker bus, Cheverolet van, Saab 9000 and an Opel Manta 400 cars. This particular combination of vehicles was chosen with the expectation that the bus, van and either one of the cars would be readily distinguishable, but it would be more difficult to distinguish between the cars.Domain: Object recognitionContext:The purpose is to classify a given silhouette as one of three types of vehicle, using a set of features extracted from the silhouette. The vehicle may be viewed from one of many different angles."
   ]
  },
  {
   "cell_type": "markdown",
   "id": "8a25e8e5",
   "metadata": {},
   "source": [
    "# Domain"
   ]
  },
  {
   "cell_type": "markdown",
   "id": "291ff901",
   "metadata": {},
   "source": [
    "Object Recognition"
   ]
  },
  {
   "cell_type": "markdown",
   "id": "bc859f25",
   "metadata": {},
   "source": [
    "# Context"
   ]
  },
  {
   "cell_type": "markdown",
   "id": "3d05ce67",
   "metadata": {},
   "source": [
    "The purpose is to classify a given silhouette as one of three types of vehicle, using a set of features extracted from the silhouette. The vehicle may be viewed from one of many different angles."
   ]
  },
  {
   "cell_type": "markdown",
   "id": "d90512fb",
   "metadata": {},
   "source": [
    "# Attribute Information"
   ]
  },
  {
   "cell_type": "markdown",
   "id": "9c49fb13",
   "metadata": {},
   "source": [
    "* All the features are geometric features extracted from the silhouette. \n",
    "* All are numeric in nature"
   ]
  },
  {
   "cell_type": "markdown",
   "id": "2938b0c2",
   "metadata": {},
   "source": [
    "# Learning Outcomes"
   ]
  },
  {
   "cell_type": "markdown",
   "id": "0c92b2ff",
   "metadata": {},
   "source": [
    "* Exploratory Data Analysis\n",
    "* Reduce number dimensions in the dataset with minimal information loss\n",
    "* Train a model using Principle Components"
   ]
  },
  {
   "cell_type": "markdown",
   "id": "58e0b2f7",
   "metadata": {},
   "source": [
    "# Objective"
   ]
  },
  {
   "cell_type": "markdown",
   "id": "aa1ddbd6",
   "metadata": {},
   "source": [
    "Apply dimensionality reduction technique –PCA and train a model using principle components instead of training the model using just the raw data."
   ]
  },
  {
   "cell_type": "markdown",
   "id": "71d9773b",
   "metadata": {},
   "source": [
    "# Step and tasks:"
   ]
  },
  {
   "cell_type": "markdown",
   "id": "b18301c4",
   "metadata": {},
   "source": [
    "1. Data pre-processing –Perform all the necessary preprocessing on the data ready to be fed to an Unsupervised algorithm (10 marks)\n",
    "2. Understanding the attributes -Find relationship between different attributes (Independent variables) and choose carefully which all attributes have to be a part of the analysis and why (10 points)\n",
    "3. Split the data into train and test (Suggestion: specify “random state” if you are using train_test_split from Sklearn) (5 marks) \n",
    "4. Train a Support vector machine using the train set and get the accuracy on the test set (10 marks) \n",
    "5. Perform K-fold cross validation and get the cross validation score of the model (optional) \n",
    "6. Use PCA from Scikit learn, extract Principal Components that capture about 95% of the variance in the data –(10 points)\n",
    "7. Repeat steps 3,4 and 5 but this time, use Principal Components instead of the original data. And the accuracy score should be on the same rows of test data that were used earlier. (hint: set the same random state) (20 marks)\n",
    "8. Compare the accuracy scores and cross validation scores of Support vector machines –one trained using raw data and the other using Principal Components, and mention your findings (5 points)"
   ]
  },
  {
   "cell_type": "markdown",
   "id": "2c440fa6",
   "metadata": {},
   "source": [
    "# References:\n",
    "\n",
    "● Book on PCA\n",
    "\n",
    "● Application of PCA for image compression\n"
   ]
  },
  {
   "cell_type": "markdown",
   "id": "36a729d0",
   "metadata": {},
   "source": [
    "## Step A :- Data Preprocessing"
   ]
  },
  {
   "cell_type": "code",
   "execution_count": 4,
   "id": "de9d1e8b",
   "metadata": {},
   "outputs": [],
   "source": [
    "# importing modules\n",
    "import numpy as np\n",
    "import pandas as pd\n",
    "#For data visualization\n",
    "import matplotlib.pyplot as plt\n",
    "import seaborn as sns\n",
    "%matplotlib inline"
   ]
  },
  {
   "cell_type": "code",
   "execution_count": 5,
   "id": "48f2d37b",
   "metadata": {},
   "outputs": [],
   "source": [
    "#Reading data\n",
    "vehicle = pd.read_csv('vehicle.csv')"
   ]
  },
  {
   "cell_type": "code",
   "execution_count": 6,
   "id": "ed2421b1",
   "metadata": {},
   "outputs": [
    {
     "data": {
      "text/html": [
       "<div>\n",
       "<style scoped>\n",
       "    .dataframe tbody tr th:only-of-type {\n",
       "        vertical-align: middle;\n",
       "    }\n",
       "\n",
       "    .dataframe tbody tr th {\n",
       "        vertical-align: top;\n",
       "    }\n",
       "\n",
       "    .dataframe thead th {\n",
       "        text-align: right;\n",
       "    }\n",
       "</style>\n",
       "<table border=\"1\" class=\"dataframe\">\n",
       "  <thead>\n",
       "    <tr style=\"text-align: right;\">\n",
       "      <th></th>\n",
       "      <th>compactness</th>\n",
       "      <th>circularity</th>\n",
       "      <th>distance_circularity</th>\n",
       "      <th>radius_ratio</th>\n",
       "      <th>pr.axis_aspect_ratio</th>\n",
       "      <th>max.length_aspect_ratio</th>\n",
       "      <th>scatter_ratio</th>\n",
       "      <th>elongatedness</th>\n",
       "      <th>pr.axis_rectangularity</th>\n",
       "      <th>max.length_rectangularity</th>\n",
       "      <th>scaled_variance</th>\n",
       "      <th>scaled_variance.1</th>\n",
       "      <th>scaled_radius_of_gyration</th>\n",
       "      <th>scaled_radius_of_gyration.1</th>\n",
       "      <th>skewness_about</th>\n",
       "      <th>skewness_about.1</th>\n",
       "      <th>skewness_about.2</th>\n",
       "      <th>hollows_ratio</th>\n",
       "      <th>class</th>\n",
       "    </tr>\n",
       "  </thead>\n",
       "  <tbody>\n",
       "    <tr>\n",
       "      <th>0</th>\n",
       "      <td>95</td>\n",
       "      <td>48.0</td>\n",
       "      <td>83.0</td>\n",
       "      <td>178.0</td>\n",
       "      <td>72.0</td>\n",
       "      <td>10</td>\n",
       "      <td>162.0</td>\n",
       "      <td>42.0</td>\n",
       "      <td>20.0</td>\n",
       "      <td>159</td>\n",
       "      <td>176.0</td>\n",
       "      <td>379.0</td>\n",
       "      <td>184.0</td>\n",
       "      <td>70.0</td>\n",
       "      <td>6.0</td>\n",
       "      <td>16.0</td>\n",
       "      <td>187.0</td>\n",
       "      <td>197</td>\n",
       "      <td>van</td>\n",
       "    </tr>\n",
       "    <tr>\n",
       "      <th>1</th>\n",
       "      <td>91</td>\n",
       "      <td>41.0</td>\n",
       "      <td>84.0</td>\n",
       "      <td>141.0</td>\n",
       "      <td>57.0</td>\n",
       "      <td>9</td>\n",
       "      <td>149.0</td>\n",
       "      <td>45.0</td>\n",
       "      <td>19.0</td>\n",
       "      <td>143</td>\n",
       "      <td>170.0</td>\n",
       "      <td>330.0</td>\n",
       "      <td>158.0</td>\n",
       "      <td>72.0</td>\n",
       "      <td>9.0</td>\n",
       "      <td>14.0</td>\n",
       "      <td>189.0</td>\n",
       "      <td>199</td>\n",
       "      <td>van</td>\n",
       "    </tr>\n",
       "    <tr>\n",
       "      <th>2</th>\n",
       "      <td>104</td>\n",
       "      <td>50.0</td>\n",
       "      <td>106.0</td>\n",
       "      <td>209.0</td>\n",
       "      <td>66.0</td>\n",
       "      <td>10</td>\n",
       "      <td>207.0</td>\n",
       "      <td>32.0</td>\n",
       "      <td>23.0</td>\n",
       "      <td>158</td>\n",
       "      <td>223.0</td>\n",
       "      <td>635.0</td>\n",
       "      <td>220.0</td>\n",
       "      <td>73.0</td>\n",
       "      <td>14.0</td>\n",
       "      <td>9.0</td>\n",
       "      <td>188.0</td>\n",
       "      <td>196</td>\n",
       "      <td>car</td>\n",
       "    </tr>\n",
       "    <tr>\n",
       "      <th>3</th>\n",
       "      <td>93</td>\n",
       "      <td>41.0</td>\n",
       "      <td>82.0</td>\n",
       "      <td>159.0</td>\n",
       "      <td>63.0</td>\n",
       "      <td>9</td>\n",
       "      <td>144.0</td>\n",
       "      <td>46.0</td>\n",
       "      <td>19.0</td>\n",
       "      <td>143</td>\n",
       "      <td>160.0</td>\n",
       "      <td>309.0</td>\n",
       "      <td>127.0</td>\n",
       "      <td>63.0</td>\n",
       "      <td>6.0</td>\n",
       "      <td>10.0</td>\n",
       "      <td>199.0</td>\n",
       "      <td>207</td>\n",
       "      <td>van</td>\n",
       "    </tr>\n",
       "    <tr>\n",
       "      <th>4</th>\n",
       "      <td>85</td>\n",
       "      <td>44.0</td>\n",
       "      <td>70.0</td>\n",
       "      <td>205.0</td>\n",
       "      <td>103.0</td>\n",
       "      <td>52</td>\n",
       "      <td>149.0</td>\n",
       "      <td>45.0</td>\n",
       "      <td>19.0</td>\n",
       "      <td>144</td>\n",
       "      <td>241.0</td>\n",
       "      <td>325.0</td>\n",
       "      <td>188.0</td>\n",
       "      <td>127.0</td>\n",
       "      <td>9.0</td>\n",
       "      <td>11.0</td>\n",
       "      <td>180.0</td>\n",
       "      <td>183</td>\n",
       "      <td>bus</td>\n",
       "    </tr>\n",
       "  </tbody>\n",
       "</table>\n",
       "</div>"
      ],
      "text/plain": [
       "   compactness  circularity  distance_circularity  radius_ratio  \\\n",
       "0           95         48.0                  83.0         178.0   \n",
       "1           91         41.0                  84.0         141.0   \n",
       "2          104         50.0                 106.0         209.0   \n",
       "3           93         41.0                  82.0         159.0   \n",
       "4           85         44.0                  70.0         205.0   \n",
       "\n",
       "   pr.axis_aspect_ratio  max.length_aspect_ratio  scatter_ratio  \\\n",
       "0                  72.0                       10          162.0   \n",
       "1                  57.0                        9          149.0   \n",
       "2                  66.0                       10          207.0   \n",
       "3                  63.0                        9          144.0   \n",
       "4                 103.0                       52          149.0   \n",
       "\n",
       "   elongatedness  pr.axis_rectangularity  max.length_rectangularity  \\\n",
       "0           42.0                    20.0                        159   \n",
       "1           45.0                    19.0                        143   \n",
       "2           32.0                    23.0                        158   \n",
       "3           46.0                    19.0                        143   \n",
       "4           45.0                    19.0                        144   \n",
       "\n",
       "   scaled_variance  scaled_variance.1  scaled_radius_of_gyration  \\\n",
       "0            176.0              379.0                      184.0   \n",
       "1            170.0              330.0                      158.0   \n",
       "2            223.0              635.0                      220.0   \n",
       "3            160.0              309.0                      127.0   \n",
       "4            241.0              325.0                      188.0   \n",
       "\n",
       "   scaled_radius_of_gyration.1  skewness_about  skewness_about.1  \\\n",
       "0                         70.0             6.0              16.0   \n",
       "1                         72.0             9.0              14.0   \n",
       "2                         73.0            14.0               9.0   \n",
       "3                         63.0             6.0              10.0   \n",
       "4                        127.0             9.0              11.0   \n",
       "\n",
       "   skewness_about.2  hollows_ratio class  \n",
       "0             187.0            197   van  \n",
       "1             189.0            199   van  \n",
       "2             188.0            196   car  \n",
       "3             199.0            207   van  \n",
       "4             180.0            183   bus  "
      ]
     },
     "execution_count": 6,
     "metadata": {},
     "output_type": "execute_result"
    }
   ],
   "source": [
    "vehicle.head()"
   ]
  },
  {
   "cell_type": "code",
   "execution_count": 7,
   "id": "a53a9e73",
   "metadata": {},
   "outputs": [
    {
     "name": "stdout",
     "output_type": "stream",
     "text": [
      "Data has 846 sample and 19 features\n"
     ]
    }
   ],
   "source": [
    "#Determining shape of the data\n",
    "print(\"Data has {} sample and {} features\".format(vehicle.shape[0],vehicle.shape[1]))"
   ]
  },
  {
   "cell_type": "code",
   "execution_count": 10,
   "id": "45b25e40",
   "metadata": {},
   "outputs": [
    {
     "name": "stdout",
     "output_type": "stream",
     "text": [
      "<class 'pandas.core.frame.DataFrame'>\n",
      "RangeIndex: 846 entries, 0 to 845\n",
      "Data columns (total 19 columns):\n",
      " #   Column                       Non-Null Count  Dtype  \n",
      "---  ------                       --------------  -----  \n",
      " 0   compactness                  846 non-null    int64  \n",
      " 1   circularity                  841 non-null    float64\n",
      " 2   distance_circularity         842 non-null    float64\n",
      " 3   radius_ratio                 840 non-null    float64\n",
      " 4   pr.axis_aspect_ratio         844 non-null    float64\n",
      " 5   max.length_aspect_ratio      846 non-null    int64  \n",
      " 6   scatter_ratio                845 non-null    float64\n",
      " 7   elongatedness                845 non-null    float64\n",
      " 8   pr.axis_rectangularity       843 non-null    float64\n",
      " 9   max.length_rectangularity    846 non-null    int64  \n",
      " 10  scaled_variance              843 non-null    float64\n",
      " 11  scaled_variance.1            844 non-null    float64\n",
      " 12  scaled_radius_of_gyration    844 non-null    float64\n",
      " 13  scaled_radius_of_gyration.1  842 non-null    float64\n",
      " 14  skewness_about               840 non-null    float64\n",
      " 15  skewness_about.1             845 non-null    float64\n",
      " 16  skewness_about.2             845 non-null    float64\n",
      " 17  hollows_ratio                846 non-null    int64  \n",
      " 18  class                        846 non-null    object \n",
      "dtypes: float64(14), int64(4), object(1)\n",
      "memory usage: 125.7+ KB\n"
     ]
    }
   ],
   "source": [
    "#Determing the datatypes\n",
    "vehicle.info()"
   ]
  },
  {
   "cell_type": "markdown",
   "id": "4b4fae6d",
   "metadata": {},
   "source": [
    "we can see here the only one class *-class* has the datatype object but since it's a categorical column, so we will map it to integers."
   ]
  },
  {
   "cell_type": "code",
   "execution_count": 11,
   "id": "ba65d2e9",
   "metadata": {},
   "outputs": [
    {
     "data": {
      "text/html": [
       "<div>\n",
       "<style scoped>\n",
       "    .dataframe tbody tr th:only-of-type {\n",
       "        vertical-align: middle;\n",
       "    }\n",
       "\n",
       "    .dataframe tbody tr th {\n",
       "        vertical-align: top;\n",
       "    }\n",
       "\n",
       "    .dataframe thead th {\n",
       "        text-align: right;\n",
       "    }\n",
       "</style>\n",
       "<table border=\"1\" class=\"dataframe\">\n",
       "  <thead>\n",
       "    <tr style=\"text-align: right;\">\n",
       "      <th></th>\n",
       "      <th>compactness</th>\n",
       "      <th>circularity</th>\n",
       "      <th>distance_circularity</th>\n",
       "      <th>radius_ratio</th>\n",
       "      <th>pr.axis_aspect_ratio</th>\n",
       "      <th>max.length_aspect_ratio</th>\n",
       "      <th>scatter_ratio</th>\n",
       "      <th>elongatedness</th>\n",
       "      <th>pr.axis_rectangularity</th>\n",
       "      <th>max.length_rectangularity</th>\n",
       "      <th>scaled_variance</th>\n",
       "      <th>scaled_variance.1</th>\n",
       "      <th>scaled_radius_of_gyration</th>\n",
       "      <th>scaled_radius_of_gyration.1</th>\n",
       "      <th>skewness_about</th>\n",
       "      <th>skewness_about.1</th>\n",
       "      <th>skewness_about.2</th>\n",
       "      <th>hollows_ratio</th>\n",
       "    </tr>\n",
       "  </thead>\n",
       "  <tbody>\n",
       "    <tr>\n",
       "      <th>count</th>\n",
       "      <td>846.000000</td>\n",
       "      <td>841.000000</td>\n",
       "      <td>842.000000</td>\n",
       "      <td>840.000000</td>\n",
       "      <td>844.000000</td>\n",
       "      <td>846.000000</td>\n",
       "      <td>845.000000</td>\n",
       "      <td>845.000000</td>\n",
       "      <td>843.000000</td>\n",
       "      <td>846.000000</td>\n",
       "      <td>843.000000</td>\n",
       "      <td>844.000000</td>\n",
       "      <td>844.000000</td>\n",
       "      <td>842.000000</td>\n",
       "      <td>840.000000</td>\n",
       "      <td>845.000000</td>\n",
       "      <td>845.000000</td>\n",
       "      <td>846.000000</td>\n",
       "    </tr>\n",
       "    <tr>\n",
       "      <th>mean</th>\n",
       "      <td>93.678487</td>\n",
       "      <td>44.828775</td>\n",
       "      <td>82.110451</td>\n",
       "      <td>168.888095</td>\n",
       "      <td>61.678910</td>\n",
       "      <td>8.567376</td>\n",
       "      <td>168.901775</td>\n",
       "      <td>40.933728</td>\n",
       "      <td>20.582444</td>\n",
       "      <td>147.998818</td>\n",
       "      <td>188.631079</td>\n",
       "      <td>439.494076</td>\n",
       "      <td>174.709716</td>\n",
       "      <td>72.447743</td>\n",
       "      <td>6.364286</td>\n",
       "      <td>12.602367</td>\n",
       "      <td>188.919527</td>\n",
       "      <td>195.632388</td>\n",
       "    </tr>\n",
       "    <tr>\n",
       "      <th>std</th>\n",
       "      <td>8.234474</td>\n",
       "      <td>6.152172</td>\n",
       "      <td>15.778292</td>\n",
       "      <td>33.520198</td>\n",
       "      <td>7.891463</td>\n",
       "      <td>4.601217</td>\n",
       "      <td>33.214848</td>\n",
       "      <td>7.816186</td>\n",
       "      <td>2.592933</td>\n",
       "      <td>14.515652</td>\n",
       "      <td>31.411004</td>\n",
       "      <td>176.666903</td>\n",
       "      <td>32.584808</td>\n",
       "      <td>7.486190</td>\n",
       "      <td>4.920649</td>\n",
       "      <td>8.936081</td>\n",
       "      <td>6.155809</td>\n",
       "      <td>7.438797</td>\n",
       "    </tr>\n",
       "    <tr>\n",
       "      <th>min</th>\n",
       "      <td>73.000000</td>\n",
       "      <td>33.000000</td>\n",
       "      <td>40.000000</td>\n",
       "      <td>104.000000</td>\n",
       "      <td>47.000000</td>\n",
       "      <td>2.000000</td>\n",
       "      <td>112.000000</td>\n",
       "      <td>26.000000</td>\n",
       "      <td>17.000000</td>\n",
       "      <td>118.000000</td>\n",
       "      <td>130.000000</td>\n",
       "      <td>184.000000</td>\n",
       "      <td>109.000000</td>\n",
       "      <td>59.000000</td>\n",
       "      <td>0.000000</td>\n",
       "      <td>0.000000</td>\n",
       "      <td>176.000000</td>\n",
       "      <td>181.000000</td>\n",
       "    </tr>\n",
       "    <tr>\n",
       "      <th>25%</th>\n",
       "      <td>87.000000</td>\n",
       "      <td>40.000000</td>\n",
       "      <td>70.000000</td>\n",
       "      <td>141.000000</td>\n",
       "      <td>57.000000</td>\n",
       "      <td>7.000000</td>\n",
       "      <td>147.000000</td>\n",
       "      <td>33.000000</td>\n",
       "      <td>19.000000</td>\n",
       "      <td>137.000000</td>\n",
       "      <td>167.000000</td>\n",
       "      <td>318.000000</td>\n",
       "      <td>149.000000</td>\n",
       "      <td>67.000000</td>\n",
       "      <td>2.000000</td>\n",
       "      <td>5.000000</td>\n",
       "      <td>184.000000</td>\n",
       "      <td>190.250000</td>\n",
       "    </tr>\n",
       "    <tr>\n",
       "      <th>50%</th>\n",
       "      <td>93.000000</td>\n",
       "      <td>44.000000</td>\n",
       "      <td>80.000000</td>\n",
       "      <td>167.000000</td>\n",
       "      <td>61.000000</td>\n",
       "      <td>8.000000</td>\n",
       "      <td>157.000000</td>\n",
       "      <td>43.000000</td>\n",
       "      <td>20.000000</td>\n",
       "      <td>146.000000</td>\n",
       "      <td>179.000000</td>\n",
       "      <td>363.500000</td>\n",
       "      <td>173.500000</td>\n",
       "      <td>71.500000</td>\n",
       "      <td>6.000000</td>\n",
       "      <td>11.000000</td>\n",
       "      <td>188.000000</td>\n",
       "      <td>197.000000</td>\n",
       "    </tr>\n",
       "    <tr>\n",
       "      <th>75%</th>\n",
       "      <td>100.000000</td>\n",
       "      <td>49.000000</td>\n",
       "      <td>98.000000</td>\n",
       "      <td>195.000000</td>\n",
       "      <td>65.000000</td>\n",
       "      <td>10.000000</td>\n",
       "      <td>198.000000</td>\n",
       "      <td>46.000000</td>\n",
       "      <td>23.000000</td>\n",
       "      <td>159.000000</td>\n",
       "      <td>217.000000</td>\n",
       "      <td>587.000000</td>\n",
       "      <td>198.000000</td>\n",
       "      <td>75.000000</td>\n",
       "      <td>9.000000</td>\n",
       "      <td>19.000000</td>\n",
       "      <td>193.000000</td>\n",
       "      <td>201.000000</td>\n",
       "    </tr>\n",
       "    <tr>\n",
       "      <th>max</th>\n",
       "      <td>119.000000</td>\n",
       "      <td>59.000000</td>\n",
       "      <td>112.000000</td>\n",
       "      <td>333.000000</td>\n",
       "      <td>138.000000</td>\n",
       "      <td>55.000000</td>\n",
       "      <td>265.000000</td>\n",
       "      <td>61.000000</td>\n",
       "      <td>29.000000</td>\n",
       "      <td>188.000000</td>\n",
       "      <td>320.000000</td>\n",
       "      <td>1018.000000</td>\n",
       "      <td>268.000000</td>\n",
       "      <td>135.000000</td>\n",
       "      <td>22.000000</td>\n",
       "      <td>41.000000</td>\n",
       "      <td>206.000000</td>\n",
       "      <td>211.000000</td>\n",
       "    </tr>\n",
       "  </tbody>\n",
       "</table>\n",
       "</div>"
      ],
      "text/plain": [
       "       compactness  circularity  distance_circularity  radius_ratio  \\\n",
       "count   846.000000   841.000000            842.000000    840.000000   \n",
       "mean     93.678487    44.828775             82.110451    168.888095   \n",
       "std       8.234474     6.152172             15.778292     33.520198   \n",
       "min      73.000000    33.000000             40.000000    104.000000   \n",
       "25%      87.000000    40.000000             70.000000    141.000000   \n",
       "50%      93.000000    44.000000             80.000000    167.000000   \n",
       "75%     100.000000    49.000000             98.000000    195.000000   \n",
       "max     119.000000    59.000000            112.000000    333.000000   \n",
       "\n",
       "       pr.axis_aspect_ratio  max.length_aspect_ratio  scatter_ratio  \\\n",
       "count            844.000000               846.000000     845.000000   \n",
       "mean              61.678910                 8.567376     168.901775   \n",
       "std                7.891463                 4.601217      33.214848   \n",
       "min               47.000000                 2.000000     112.000000   \n",
       "25%               57.000000                 7.000000     147.000000   \n",
       "50%               61.000000                 8.000000     157.000000   \n",
       "75%               65.000000                10.000000     198.000000   \n",
       "max              138.000000                55.000000     265.000000   \n",
       "\n",
       "       elongatedness  pr.axis_rectangularity  max.length_rectangularity  \\\n",
       "count     845.000000              843.000000                 846.000000   \n",
       "mean       40.933728               20.582444                 147.998818   \n",
       "std         7.816186                2.592933                  14.515652   \n",
       "min        26.000000               17.000000                 118.000000   \n",
       "25%        33.000000               19.000000                 137.000000   \n",
       "50%        43.000000               20.000000                 146.000000   \n",
       "75%        46.000000               23.000000                 159.000000   \n",
       "max        61.000000               29.000000                 188.000000   \n",
       "\n",
       "       scaled_variance  scaled_variance.1  scaled_radius_of_gyration  \\\n",
       "count       843.000000         844.000000                 844.000000   \n",
       "mean        188.631079         439.494076                 174.709716   \n",
       "std          31.411004         176.666903                  32.584808   \n",
       "min         130.000000         184.000000                 109.000000   \n",
       "25%         167.000000         318.000000                 149.000000   \n",
       "50%         179.000000         363.500000                 173.500000   \n",
       "75%         217.000000         587.000000                 198.000000   \n",
       "max         320.000000        1018.000000                 268.000000   \n",
       "\n",
       "       scaled_radius_of_gyration.1  skewness_about  skewness_about.1  \\\n",
       "count                   842.000000      840.000000        845.000000   \n",
       "mean                     72.447743        6.364286         12.602367   \n",
       "std                       7.486190        4.920649          8.936081   \n",
       "min                      59.000000        0.000000          0.000000   \n",
       "25%                      67.000000        2.000000          5.000000   \n",
       "50%                      71.500000        6.000000         11.000000   \n",
       "75%                      75.000000        9.000000         19.000000   \n",
       "max                     135.000000       22.000000         41.000000   \n",
       "\n",
       "       skewness_about.2  hollows_ratio  \n",
       "count        845.000000     846.000000  \n",
       "mean         188.919527     195.632388  \n",
       "std            6.155809       7.438797  \n",
       "min          176.000000     181.000000  \n",
       "25%          184.000000     190.250000  \n",
       "50%          188.000000     197.000000  \n",
       "75%          193.000000     201.000000  \n",
       "max          206.000000     211.000000  "
      ]
     },
     "execution_count": 11,
     "metadata": {},
     "output_type": "execute_result"
    }
   ],
   "source": [
    "#Describing data\n",
    "vehicle.describe()"
   ]
  },
  {
   "cell_type": "markdown",
   "id": "6029a31b",
   "metadata": {},
   "source": [
    "# To represent data in Box Plots and remmove the outliers"
   ]
  },
  {
   "cell_type": "code",
   "execution_count": 12,
   "id": "9eb658f9",
   "metadata": {},
   "outputs": [
    {
     "name": "stderr",
     "output_type": "stream",
     "text": [
      "E:\\Me\\lib\\site-packages\\seaborn\\_decorators.py:36: FutureWarning: Pass the following variable as a keyword arg: x. From version 0.12, the only valid positional argument will be `data`, and passing other arguments without an explicit keyword will result in an error or misinterpretation.\n",
      "  warnings.warn(\n"
     ]
    },
    {
     "data": {
      "image/png": "[encoded data removed]",
      "text/plain": [
       "<Figure size 640x480 with 1 Axes>"
      ]
     },
     "metadata": {},
     "output_type": "display_data"
    }
   ],
   "source": [
    "sns.boxplot(vehicle['radius_ratio'])\n",
    "plt.show()"
   ]
  },
  {
   "cell_type": "code",
   "execution_count": 13,
   "id": "4457af8d",
   "metadata": {},
   "outputs": [
    {
     "data": {
      "text/plain": [
       "(837, 19)"
      ]
     },
     "execution_count": 13,
     "metadata": {},
     "output_type": "execute_result"
    }
   ],
   "source": [
    "vehicle = vehicle[vehicle[\"radius_ratio\"] <=300]\n",
    "vehicle.shape"
   ]
  },
  {
   "cell_type": "markdown",
   "id": "0dc6b461",
   "metadata": {},
   "source": [
    "we removed 9 samples from the above steps"
   ]
  },
  {
   "cell_type": "code",
   "execution_count": 14,
   "id": "f8fbbba1",
   "metadata": {},
   "outputs": [
    {
     "name": "stderr",
     "output_type": "stream",
     "text": [
      "E:\\Me\\lib\\site-packages\\seaborn\\_decorators.py:36: FutureWarning: Pass the following variable as a keyword arg: x. From version 0.12, the only valid positional argument will be `data`, and passing other arguments without an explicit keyword will result in an error or misinterpretation.\n",
      "  warnings.warn(\n"
     ]
    },
    {
     "data": {
      "image/png": "[encoded data removed]",
      "text/plain": [
       "<Figure size 640x480 with 1 Axes>"
      ]
     },
     "metadata": {},
     "output_type": "display_data"
    }
   ],
   "source": [
    "sns.boxplot(vehicle[\"pr.axis_aspect_ratio\"])\n",
    "plt.show()"
   ]
  },
  {
   "cell_type": "code",
   "execution_count": 16,
   "id": "207e4062",
   "metadata": {},
   "outputs": [
    {
     "data": {
      "text/plain": [
       "(830, 19)"
      ]
     },
     "execution_count": 16,
     "metadata": {},
     "output_type": "execute_result"
    }
   ],
   "source": [
    "vehicle = vehicle[vehicle[\"pr.axis_aspect_ratio\"] <= 90]\n",
    "vehicle.shape"
   ]
  },
  {
   "cell_type": "markdown",
   "id": "8aa7788c",
   "metadata": {},
   "source": [
    "We removed 7 samples from the aabove steps"
   ]
  },
  {
   "cell_type": "code",
   "execution_count": 18,
   "id": "62cf2b0b",
   "metadata": {},
   "outputs": [
    {
     "name": "stderr",
     "output_type": "stream",
     "text": [
      "E:\\Me\\lib\\site-packages\\seaborn\\_decorators.py:36: FutureWarning: Pass the following variable as a keyword arg: x. From version 0.12, the only valid positional argument will be `data`, and passing other arguments without an explicit keyword will result in an error or misinterpretation.\n",
      "  warnings.warn(\n"
     ]
    },
    {
     "data": {
      "image/png": "[encoded data removed]",
      "text/plain": [
       "<Figure size 640x480 with 1 Axes>"
      ]
     },
     "metadata": {},
     "output_type": "display_data"
    }
   ],
   "source": [
    "sns.boxplot(vehicle[\"max.length_aspect_ratio\"])\n",
    "plt.show()"
   ]
  },
  {
   "cell_type": "markdown",
   "id": "32ec25dc",
   "metadata": {},
   "source": [
    "In this case, the minimum value is very close to Q1, so we need not remove it."
   ]
  },
  {
   "cell_type": "code",
   "execution_count": 19,
   "id": "4c2602ce",
   "metadata": {},
   "outputs": [
    {
     "data": {
      "text/plain": [
       "(826, 19)"
      ]
     },
     "execution_count": 19,
     "metadata": {},
     "output_type": "execute_result"
    }
   ],
   "source": [
    "vehicle = vehicle[vehicle[\"max.length_aspect_ratio\"] <= 15]\n",
    "vehicle.shape"
   ]
  },
  {
   "cell_type": "markdown",
   "id": "e3049190",
   "metadata": {},
   "source": [
    "We removed 4 samples from the above step."
   ]
  },
  {
   "cell_type": "code",
   "execution_count": 21,
   "id": "5f2abbe1",
   "metadata": {},
   "outputs": [
    {
     "name": "stderr",
     "output_type": "stream",
     "text": [
      "E:\\Me\\lib\\site-packages\\seaborn\\_decorators.py:36: FutureWarning: Pass the following variable as a keyword arg: x. From version 0.12, the only valid positional argument will be `data`, and passing other arguments without an explicit keyword will result in an error or misinterpretation.\n",
      "  warnings.warn(\n"
     ]
    },
    {
     "data": {
      "image/png": "[encoded data removed]",
      "text/plain": [
       "<Figure size 640x480 with 1 Axes>"
      ]
     },
     "metadata": {},
     "output_type": "display_data"
    }
   ],
   "source": [
    "sns.boxplot(vehicle[\"scaled_variance.1\"])\n",
    "plt.show()"
   ]
  },
  {
   "cell_type": "markdown",
   "id": "b663a540",
   "metadata": {},
   "source": [
    "There is no need to remove the maximum value in this case."
   ]
  },
  {
   "cell_type": "code",
   "execution_count": 22,
   "id": "3bf1343c",
   "metadata": {},
   "outputs": [
    {
     "name": "stderr",
     "output_type": "stream",
     "text": [
      "E:\\Me\\lib\\site-packages\\seaborn\\_decorators.py:36: FutureWarning: Pass the following variable as a keyword arg: x. From version 0.12, the only valid positional argument will be `data`, and passing other arguments without an explicit keyword will result in an error or misinterpretation.\n",
      "  warnings.warn(\n"
     ]
    },
    {
     "data": {
      "image/png": "[encoded data removed]",
      "text/plain": [
       "<Figure size 640x480 with 1 Axes>"
      ]
     },
     "metadata": {},
     "output_type": "display_data"
    }
   ],
   "source": [
    "sns.boxplot(vehicle[\"scaled_radius_of_gyration.1\"])\n",
    "plt.show()"
   ]
  },
  {
   "cell_type": "markdown",
   "id": "28549875",
   "metadata": {},
   "source": [
    "There is no need of removing the outliers in the above cases"
   ]
  },
  {
   "cell_type": "code",
   "execution_count": 24,
   "id": "da39b217",
   "metadata": {},
   "outputs": [
    {
     "name": "stderr",
     "output_type": "stream",
     "text": [
      "E:\\Me\\lib\\site-packages\\seaborn\\_decorators.py:36: FutureWarning: Pass the following variable as a keyword arg: x. From version 0.12, the only valid positional argument will be `data`, and passing other arguments without an explicit keyword will result in an error or misinterpretation.\n",
      "  warnings.warn(\n"
     ]
    },
    {
     "data": {
      "image/png": "[encoded data removed]",
      "text/plain": [
       "<Figure size 640x480 with 1 Axes>"
      ]
     },
     "metadata": {},
     "output_type": "display_data"
    }
   ],
   "source": [
    "sns.boxplot(vehicle[\"skewness_about\"])\n",
    "plt.show()"
   ]
  },
  {
   "cell_type": "markdown",
   "id": "1a12e6f9",
   "metadata": {},
   "source": [
    "Also in the above case it is not needed to remove outliers as they are very close to maximum values."
   ]
  },
  {
   "cell_type": "code",
   "execution_count": 26,
   "id": "90c0e0d2",
   "metadata": {},
   "outputs": [
    {
     "name": "stderr",
     "output_type": "stream",
     "text": [
      "E:\\Me\\lib\\site-packages\\seaborn\\_decorators.py:36: FutureWarning: Pass the following variable as a keyword arg: x. From version 0.12, the only valid positional argument will be `data`, and passing other arguments without an explicit keyword will result in an error or misinterpretation.\n",
      "  warnings.warn(\n"
     ]
    },
    {
     "data": {
      "image/png": "[encoded data removed]",
      "text/plain": [
       "<Figure size 640x480 with 1 Axes>"
      ]
     },
     "metadata": {},
     "output_type": "display_data"
    }
   ],
   "source": [
    "sns.boxplot(vehicle[\"skewness_about.1\"])\n",
    "plt.show()"
   ]
  },
  {
   "cell_type": "markdown",
   "id": "066989f0",
   "metadata": {},
   "source": [
    "No need to remove outliers here also."
   ]
  },
  {
   "cell_type": "code",
   "execution_count": 27,
   "id": "66f4de0f",
   "metadata": {},
   "outputs": [
    {
     "data": {
      "text/plain": [
       "(826, 19)"
      ]
     },
     "execution_count": 27,
     "metadata": {},
     "output_type": "execute_result"
    }
   ],
   "source": [
    "vehicle.shape"
   ]
  },
  {
   "cell_type": "markdown",
   "id": "09211dc9",
   "metadata": {},
   "source": [
    "We removed a total of 20 samples in our data."
   ]
  },
  {
   "cell_type": "code",
   "execution_count": 28,
   "id": "54ee6274",
   "metadata": {},
   "outputs": [
    {
     "data": {
      "text/plain": [
       "2.3640661938534278"
      ]
     },
     "execution_count": 28,
     "metadata": {},
     "output_type": "execute_result"
    }
   ],
   "source": [
    "# to calculate data% removed.\n",
    "20/846 * 100"
   ]
  },
  {
   "cell_type": "markdown",
   "id": "c09be251",
   "metadata": {},
   "source": [
    "From above we can see that we have removed aproximately 2.36% of the data."
   ]
  },
  {
   "cell_type": "code",
   "execution_count": 29,
   "id": "cd3a60b5",
   "metadata": {},
   "outputs": [
    {
     "data": {
      "text/plain": [
       "compactness                    0.000000\n",
       "circularity                    0.605327\n",
       "distance_circularity           0.484262\n",
       "radius_ratio                   0.000000\n",
       "pr.axis_aspect_ratio           0.000000\n",
       "max.length_aspect_ratio        0.000000\n",
       "scatter_ratio                  0.121065\n",
       "elongatedness                  0.121065\n",
       "pr.axis_rectangularity         0.363196\n",
       "max.length_rectangularity      0.000000\n",
       "scaled_variance                0.363196\n",
       "scaled_variance.1              0.242131\n",
       "scaled_radius_of_gyration      0.242131\n",
       "scaled_radius_of_gyration.1    0.484262\n",
       "skewness_about                 0.605327\n",
       "skewness_about.1               0.121065\n",
       "skewness_about.2               0.121065\n",
       "hollows_ratio                  0.000000\n",
       "class                          0.000000\n",
       "dtype: float64"
      ]
     },
     "execution_count": 29,
     "metadata": {},
     "output_type": "execute_result"
    }
   ],
   "source": [
    "# Calculating Missing values in percentage.\n",
    "vehicle.isna().sum()/len(vehicle.index) * 100"
   ]
  },
  {
   "cell_type": "code",
   "execution_count": 30,
   "id": "3f95a2bd",
   "metadata": {},
   "outputs": [],
   "source": [
    "# Columns with missing values\n",
    "missingCols = vehicle.columns[vehicle.isna().sum()/len(vehicle.index) * 100 != 0]"
   ]
  },
  {
   "cell_type": "code",
   "execution_count": 31,
   "id": "b0f55774",
   "metadata": {},
   "outputs": [
    {
     "name": "stdout",
     "output_type": "stream",
     "text": [
      "Number of columns with missing values: 12\n"
     ]
    }
   ],
   "source": [
    "print(\"Number of columns with missing values: {}\".format(len(missingCols)))"
   ]
  },
  {
   "cell_type": "markdown",
   "id": "f4772aea",
   "metadata": {},
   "source": [
    "As we have just 826 samples, we cannot afford to remove any samples at this stage. So we can fill the missing values with the median."
   ]
  },
  {
   "cell_type": "code",
   "execution_count": 32,
   "id": "60b4ef83",
   "metadata": {},
   "outputs": [],
   "source": [
    "medianFiller = lambda x: x.fillna(x.median())\n",
    "for col in missingCols:\n",
    "    vehicle[col].fillna(vehicle[col].median(),inplace=True)"
   ]
  },
  {
   "cell_type": "code",
   "execution_count": 33,
   "id": "30ec23bb",
   "metadata": {},
   "outputs": [
    {
     "data": {
      "text/plain": [
       "compactness                    0.0\n",
       "circularity                    0.0\n",
       "distance_circularity           0.0\n",
       "radius_ratio                   0.0\n",
       "pr.axis_aspect_ratio           0.0\n",
       "max.length_aspect_ratio        0.0\n",
       "scatter_ratio                  0.0\n",
       "elongatedness                  0.0\n",
       "pr.axis_rectangularity         0.0\n",
       "max.length_rectangularity      0.0\n",
       "scaled_variance                0.0\n",
       "scaled_variance.1              0.0\n",
       "scaled_radius_of_gyration      0.0\n",
       "scaled_radius_of_gyration.1    0.0\n",
       "skewness_about                 0.0\n",
       "skewness_about.1               0.0\n",
       "skewness_about.2               0.0\n",
       "hollows_ratio                  0.0\n",
       "class                          0.0\n",
       "dtype: float64"
      ]
     },
     "execution_count": 33,
     "metadata": {},
     "output_type": "execute_result"
    }
   ],
   "source": [
    "# Missing values in percentage\n",
    "vehicle.isna().sum()/len(vehicle.index) * 100"
   ]
  },
  {
   "cell_type": "markdown",
   "id": "1265282a",
   "metadata": {},
   "source": [
    "We can see that there are no missing values now. So let's finally map the target column - class to integers as follows."
   ]
  },
  {
   "cell_type": "code",
   "execution_count": 34,
   "id": "2fd5f374",
   "metadata": {},
   "outputs": [
    {
     "data": {
      "text/plain": [
       "array(['van', 'car', 'bus'], dtype=object)"
      ]
     },
     "execution_count": 34,
     "metadata": {},
     "output_type": "execute_result"
    }
   ],
   "source": [
    "vehicle[\"class\"].unique()"
   ]
  },
  {
   "cell_type": "code",
   "execution_count": 35,
   "id": "d3d962d3",
   "metadata": {},
   "outputs": [],
   "source": [
    "vehicle[\"class\"] = vehicle[\"class\"].map({\"van\":0,\"car\":1,\"bus\":2})"
   ]
  },
  {
   "cell_type": "code",
   "execution_count": 36,
   "id": "46f94c32",
   "metadata": {},
   "outputs": [
    {
     "data": {
      "text/html": [
       "<div>\n",
       "<style scoped>\n",
       "    .dataframe tbody tr th:only-of-type {\n",
       "        vertical-align: middle;\n",
       "    }\n",
       "\n",
       "    .dataframe tbody tr th {\n",
       "        vertical-align: top;\n",
       "    }\n",
       "\n",
       "    .dataframe thead th {\n",
       "        text-align: right;\n",
       "    }\n",
       "</style>\n",
       "<table border=\"1\" class=\"dataframe\">\n",
       "  <thead>\n",
       "    <tr style=\"text-align: right;\">\n",
       "      <th></th>\n",
       "      <th>compactness</th>\n",
       "      <th>circularity</th>\n",
       "      <th>distance_circularity</th>\n",
       "      <th>radius_ratio</th>\n",
       "      <th>pr.axis_aspect_ratio</th>\n",
       "      <th>max.length_aspect_ratio</th>\n",
       "      <th>scatter_ratio</th>\n",
       "      <th>elongatedness</th>\n",
       "      <th>pr.axis_rectangularity</th>\n",
       "      <th>max.length_rectangularity</th>\n",
       "      <th>scaled_variance</th>\n",
       "      <th>scaled_variance.1</th>\n",
       "      <th>scaled_radius_of_gyration</th>\n",
       "      <th>scaled_radius_of_gyration.1</th>\n",
       "      <th>skewness_about</th>\n",
       "      <th>skewness_about.1</th>\n",
       "      <th>skewness_about.2</th>\n",
       "      <th>hollows_ratio</th>\n",
       "      <th>class</th>\n",
       "    </tr>\n",
       "  </thead>\n",
       "  <tbody>\n",
       "    <tr>\n",
       "      <th>0</th>\n",
       "      <td>95</td>\n",
       "      <td>48.0</td>\n",
       "      <td>83.0</td>\n",
       "      <td>178.0</td>\n",
       "      <td>72.0</td>\n",
       "      <td>10</td>\n",
       "      <td>162.0</td>\n",
       "      <td>42.0</td>\n",
       "      <td>20.0</td>\n",
       "      <td>159</td>\n",
       "      <td>176.0</td>\n",
       "      <td>379.0</td>\n",
       "      <td>184.0</td>\n",
       "      <td>70.0</td>\n",
       "      <td>6.0</td>\n",
       "      <td>16.0</td>\n",
       "      <td>187.0</td>\n",
       "      <td>197</td>\n",
       "      <td>0</td>\n",
       "    </tr>\n",
       "    <tr>\n",
       "      <th>1</th>\n",
       "      <td>91</td>\n",
       "      <td>41.0</td>\n",
       "      <td>84.0</td>\n",
       "      <td>141.0</td>\n",
       "      <td>57.0</td>\n",
       "      <td>9</td>\n",
       "      <td>149.0</td>\n",
       "      <td>45.0</td>\n",
       "      <td>19.0</td>\n",
       "      <td>143</td>\n",
       "      <td>170.0</td>\n",
       "      <td>330.0</td>\n",
       "      <td>158.0</td>\n",
       "      <td>72.0</td>\n",
       "      <td>9.0</td>\n",
       "      <td>14.0</td>\n",
       "      <td>189.0</td>\n",
       "      <td>199</td>\n",
       "      <td>0</td>\n",
       "    </tr>\n",
       "    <tr>\n",
       "      <th>2</th>\n",
       "      <td>104</td>\n",
       "      <td>50.0</td>\n",
       "      <td>106.0</td>\n",
       "      <td>209.0</td>\n",
       "      <td>66.0</td>\n",
       "      <td>10</td>\n",
       "      <td>207.0</td>\n",
       "      <td>32.0</td>\n",
       "      <td>23.0</td>\n",
       "      <td>158</td>\n",
       "      <td>223.0</td>\n",
       "      <td>635.0</td>\n",
       "      <td>220.0</td>\n",
       "      <td>73.0</td>\n",
       "      <td>14.0</td>\n",
       "      <td>9.0</td>\n",
       "      <td>188.0</td>\n",
       "      <td>196</td>\n",
       "      <td>1</td>\n",
       "    </tr>\n",
       "    <tr>\n",
       "      <th>3</th>\n",
       "      <td>93</td>\n",
       "      <td>41.0</td>\n",
       "      <td>82.0</td>\n",
       "      <td>159.0</td>\n",
       "      <td>63.0</td>\n",
       "      <td>9</td>\n",
       "      <td>144.0</td>\n",
       "      <td>46.0</td>\n",
       "      <td>19.0</td>\n",
       "      <td>143</td>\n",
       "      <td>160.0</td>\n",
       "      <td>309.0</td>\n",
       "      <td>127.0</td>\n",
       "      <td>63.0</td>\n",
       "      <td>6.0</td>\n",
       "      <td>10.0</td>\n",
       "      <td>199.0</td>\n",
       "      <td>207</td>\n",
       "      <td>0</td>\n",
       "    </tr>\n",
       "    <tr>\n",
       "      <th>5</th>\n",
       "      <td>107</td>\n",
       "      <td>44.0</td>\n",
       "      <td>106.0</td>\n",
       "      <td>172.0</td>\n",
       "      <td>50.0</td>\n",
       "      <td>6</td>\n",
       "      <td>255.0</td>\n",
       "      <td>26.0</td>\n",
       "      <td>28.0</td>\n",
       "      <td>169</td>\n",
       "      <td>280.0</td>\n",
       "      <td>957.0</td>\n",
       "      <td>264.0</td>\n",
       "      <td>85.0</td>\n",
       "      <td>5.0</td>\n",
       "      <td>9.0</td>\n",
       "      <td>181.0</td>\n",
       "      <td>183</td>\n",
       "      <td>2</td>\n",
       "    </tr>\n",
       "  </tbody>\n",
       "</table>\n",
       "</div>"
      ],
      "text/plain": [
       "   compactness  circularity  distance_circularity  radius_ratio  \\\n",
       "0           95         48.0                  83.0         178.0   \n",
       "1           91         41.0                  84.0         141.0   \n",
       "2          104         50.0                 106.0         209.0   \n",
       "3           93         41.0                  82.0         159.0   \n",
       "5          107         44.0                 106.0         172.0   \n",
       "\n",
       "   pr.axis_aspect_ratio  max.length_aspect_ratio  scatter_ratio  \\\n",
       "0                  72.0                       10          162.0   \n",
       "1                  57.0                        9          149.0   \n",
       "2                  66.0                       10          207.0   \n",
       "3                  63.0                        9          144.0   \n",
       "5                  50.0                        6          255.0   \n",
       "\n",
       "   elongatedness  pr.axis_rectangularity  max.length_rectangularity  \\\n",
       "0           42.0                    20.0                        159   \n",
       "1           45.0                    19.0                        143   \n",
       "2           32.0                    23.0                        158   \n",
       "3           46.0                    19.0                        143   \n",
       "5           26.0                    28.0                        169   \n",
       "\n",
       "   scaled_variance  scaled_variance.1  scaled_radius_of_gyration  \\\n",
       "0            176.0              379.0                      184.0   \n",
       "1            170.0              330.0                      158.0   \n",
       "2            223.0              635.0                      220.0   \n",
       "3            160.0              309.0                      127.0   \n",
       "5            280.0              957.0                      264.0   \n",
       "\n",
       "   scaled_radius_of_gyration.1  skewness_about  skewness_about.1  \\\n",
       "0                         70.0             6.0              16.0   \n",
       "1                         72.0             9.0              14.0   \n",
       "2                         73.0            14.0               9.0   \n",
       "3                         63.0             6.0              10.0   \n",
       "5                         85.0             5.0               9.0   \n",
       "\n",
       "   skewness_about.2  hollows_ratio  class  \n",
       "0             187.0            197      0  \n",
       "1             189.0            199      0  \n",
       "2             188.0            196      1  \n",
       "3             199.0            207      0  \n",
       "5             181.0            183      2  "
      ]
     },
     "execution_count": 36,
     "metadata": {},
     "output_type": "execute_result"
    }
   ],
   "source": [
    "vehicle.head()"
   ]
  },
  {
   "cell_type": "markdown",
   "id": "9a4b44e3",
   "metadata": {},
   "source": [
    "We are also going to standardize the data as the final step."
   ]
  },
  {
   "cell_type": "code",
   "execution_count": 40,
   "id": "9336f7df",
   "metadata": {},
   "outputs": [
    {
     "data": {
      "text/plain": [
       "Index(['compactness', 'circularity', 'distance_circularity', 'radius_ratio',\n",
       "       'pr.axis_aspect_ratio', 'max.length_aspect_ratio', 'scatter_ratio',\n",
       "       'elongatedness', 'pr.axis_rectangularity', 'max.length_rectangularity',\n",
       "       'scaled_variance', 'scaled_variance.1', 'scaled_radius_of_gyration',\n",
       "       'scaled_radius_of_gyration.1', 'skewness_about', 'skewness_about.1',\n",
       "       'skewness_about.2', 'hollows_ratio', 'class'],\n",
       "      dtype='object')"
      ]
     },
     "execution_count": 40,
     "metadata": {},
     "output_type": "execute_result"
    }
   ],
   "source": [
    "cols = vehicle.columns\n",
    "cols"
   ]
  },
  {
   "cell_type": "code",
   "execution_count": 41,
   "id": "b6a31bcc",
   "metadata": {},
   "outputs": [],
   "source": [
    "cols = cols.drop('class')"
   ]
  },
  {
   "cell_type": "code",
   "execution_count": 42,
   "id": "b5aa521d",
   "metadata": {},
   "outputs": [
    {
     "data": {
      "text/html": [
       "<div>\n",
       "<style scoped>\n",
       "    .dataframe tbody tr th:only-of-type {\n",
       "        vertical-align: middle;\n",
       "    }\n",
       "\n",
       "    .dataframe tbody tr th {\n",
       "        vertical-align: top;\n",
       "    }\n",
       "\n",
       "    .dataframe thead th {\n",
       "        text-align: right;\n",
       "    }\n",
       "</style>\n",
       "<table border=\"1\" class=\"dataframe\">\n",
       "  <thead>\n",
       "    <tr style=\"text-align: right;\">\n",
       "      <th></th>\n",
       "      <th>compactness</th>\n",
       "      <th>circularity</th>\n",
       "      <th>distance_circularity</th>\n",
       "      <th>radius_ratio</th>\n",
       "      <th>pr.axis_aspect_ratio</th>\n",
       "      <th>max.length_aspect_ratio</th>\n",
       "      <th>scatter_ratio</th>\n",
       "      <th>elongatedness</th>\n",
       "      <th>pr.axis_rectangularity</th>\n",
       "      <th>max.length_rectangularity</th>\n",
       "      <th>scaled_variance</th>\n",
       "      <th>scaled_variance.1</th>\n",
       "      <th>scaled_radius_of_gyration</th>\n",
       "      <th>scaled_radius_of_gyration.1</th>\n",
       "      <th>skewness_about</th>\n",
       "      <th>skewness_about.1</th>\n",
       "      <th>skewness_about.2</th>\n",
       "      <th>hollows_ratio</th>\n",
       "      <th>class</th>\n",
       "    </tr>\n",
       "  </thead>\n",
       "  <tbody>\n",
       "    <tr>\n",
       "      <th>0</th>\n",
       "      <td>0.152122</td>\n",
       "      <td>0.521408</td>\n",
       "      <td>0.056586</td>\n",
       "      <td>0.316509</td>\n",
       "      <td>1.925877</td>\n",
       "      <td>0.904893</td>\n",
       "      <td>-0.208134</td>\n",
       "      <td>0.135427</td>\n",
       "      <td>-0.225356</td>\n",
       "      <td>0.761743</td>\n",
       "      <td>-0.386459</td>\n",
       "      <td>-0.342532</td>\n",
       "      <td>0.292555</td>\n",
       "      <td>-0.323349</td>\n",
       "      <td>-0.075383</td>\n",
       "      <td>0.370941</td>\n",
       "      <td>-0.318642</td>\n",
       "      <td>0.175410</td>\n",
       "      <td>0</td>\n",
       "    </tr>\n",
       "    <tr>\n",
       "      <th>1</th>\n",
       "      <td>-0.332089</td>\n",
       "      <td>-0.614531</td>\n",
       "      <td>0.119833</td>\n",
       "      <td>-0.839874</td>\n",
       "      <td>-0.733095</td>\n",
       "      <td>0.425764</td>\n",
       "      <td>-0.598312</td>\n",
       "      <td>0.517644</td>\n",
       "      <td>-0.610747</td>\n",
       "      <td>-0.334901</td>\n",
       "      <td>-0.580707</td>\n",
       "      <td>-0.619416</td>\n",
       "      <td>-0.504667</td>\n",
       "      <td>-0.009130</td>\n",
       "      <td>0.535071</td>\n",
       "      <td>0.148269</td>\n",
       "      <td>0.005294</td>\n",
       "      <td>0.443226</td>\n",
       "      <td>0</td>\n",
       "    </tr>\n",
       "    <tr>\n",
       "      <th>2</th>\n",
       "      <td>1.241596</td>\n",
       "      <td>0.845963</td>\n",
       "      <td>1.511276</td>\n",
       "      <td>1.285370</td>\n",
       "      <td>0.862288</td>\n",
       "      <td>0.904893</td>\n",
       "      <td>1.142484</td>\n",
       "      <td>-1.138632</td>\n",
       "      <td>0.930818</td>\n",
       "      <td>0.693203</td>\n",
       "      <td>1.135154</td>\n",
       "      <td>1.104051</td>\n",
       "      <td>1.396400</td>\n",
       "      <td>0.147980</td>\n",
       "      <td>1.552495</td>\n",
       "      <td>-0.408412</td>\n",
       "      <td>-0.156674</td>\n",
       "      <td>0.041502</td>\n",
       "      <td>1</td>\n",
       "    </tr>\n",
       "    <tr>\n",
       "      <th>3</th>\n",
       "      <td>-0.089983</td>\n",
       "      <td>-0.614531</td>\n",
       "      <td>-0.006662</td>\n",
       "      <td>-0.277309</td>\n",
       "      <td>0.330494</td>\n",
       "      <td>0.425764</td>\n",
       "      <td>-0.748381</td>\n",
       "      <td>0.645050</td>\n",
       "      <td>-0.610747</td>\n",
       "      <td>-0.334901</td>\n",
       "      <td>-0.904455</td>\n",
       "      <td>-0.738081</td>\n",
       "      <td>-1.455200</td>\n",
       "      <td>-1.423117</td>\n",
       "      <td>-0.075383</td>\n",
       "      <td>-0.297076</td>\n",
       "      <td>1.624976</td>\n",
       "      <td>1.514492</td>\n",
       "      <td>0</td>\n",
       "    </tr>\n",
       "    <tr>\n",
       "      <th>5</th>\n",
       "      <td>1.604754</td>\n",
       "      <td>-0.127700</td>\n",
       "      <td>1.511276</td>\n",
       "      <td>0.128987</td>\n",
       "      <td>-1.973949</td>\n",
       "      <td>-1.011624</td>\n",
       "      <td>2.583143</td>\n",
       "      <td>-1.903067</td>\n",
       "      <td>2.857774</td>\n",
       "      <td>1.447146</td>\n",
       "      <td>2.980514</td>\n",
       "      <td>2.923580</td>\n",
       "      <td>2.745544</td>\n",
       "      <td>2.033296</td>\n",
       "      <td>-0.278868</td>\n",
       "      <td>-0.408412</td>\n",
       "      <td>-1.290451</td>\n",
       "      <td>-1.699305</td>\n",
       "      <td>2</td>\n",
       "    </tr>\n",
       "  </tbody>\n",
       "</table>\n",
       "</div>"
      ],
      "text/plain": [
       "   compactness  circularity  distance_circularity  radius_ratio  \\\n",
       "0     0.152122     0.521408              0.056586      0.316509   \n",
       "1    -0.332089    -0.614531              0.119833     -0.839874   \n",
       "2     1.241596     0.845963              1.511276      1.285370   \n",
       "3    -0.089983    -0.614531             -0.006662     -0.277309   \n",
       "5     1.604754    -0.127700              1.511276      0.128987   \n",
       "\n",
       "   pr.axis_aspect_ratio  max.length_aspect_ratio  scatter_ratio  \\\n",
       "0              1.925877                 0.904893      -0.208134   \n",
       "1             -0.733095                 0.425764      -0.598312   \n",
       "2              0.862288                 0.904893       1.142484   \n",
       "3              0.330494                 0.425764      -0.748381   \n",
       "5             -1.973949                -1.011624       2.583143   \n",
       "\n",
       "   elongatedness  pr.axis_rectangularity  max.length_rectangularity  \\\n",
       "0       0.135427               -0.225356                   0.761743   \n",
       "1       0.517644               -0.610747                  -0.334901   \n",
       "2      -1.138632                0.930818                   0.693203   \n",
       "3       0.645050               -0.610747                  -0.334901   \n",
       "5      -1.903067                2.857774                   1.447146   \n",
       "\n",
       "   scaled_variance  scaled_variance.1  scaled_radius_of_gyration  \\\n",
       "0        -0.386459          -0.342532                   0.292555   \n",
       "1        -0.580707          -0.619416                  -0.504667   \n",
       "2         1.135154           1.104051                   1.396400   \n",
       "3        -0.904455          -0.738081                  -1.455200   \n",
       "5         2.980514           2.923580                   2.745544   \n",
       "\n",
       "   scaled_radius_of_gyration.1  skewness_about  skewness_about.1  \\\n",
       "0                    -0.323349       -0.075383          0.370941   \n",
       "1                    -0.009130        0.535071          0.148269   \n",
       "2                     0.147980        1.552495         -0.408412   \n",
       "3                    -1.423117       -0.075383         -0.297076   \n",
       "5                     2.033296       -0.278868         -0.408412   \n",
       "\n",
       "   skewness_about.2  hollows_ratio  class  \n",
       "0         -0.318642       0.175410      0  \n",
       "1          0.005294       0.443226      0  \n",
       "2         -0.156674       0.041502      1  \n",
       "3          1.624976       1.514492      0  \n",
       "5         -1.290451      -1.699305      2  "
      ]
     },
     "execution_count": 42,
     "metadata": {},
     "output_type": "execute_result"
    }
   ],
   "source": [
    "vehicle[cols] =(vehicle[cols]-vehicle[cols].mean())/(vehicle[cols].std())\n",
    "vehicle.head()"
   ]
  },
  {
   "cell_type": "markdown",
   "id": "b0c471f9",
   "metadata": {},
   "source": [
    "The data has now become ready for Exploratory Data Analysis"
   ]
  },
  {
   "cell_type": "markdown",
   "id": "65507274",
   "metadata": {},
   "source": [
    "# Step B :- Understanding the attributes"
   ]
  },
  {
   "cell_type": "code",
   "execution_count": 43,
   "id": "7e4c750a",
   "metadata": {},
   "outputs": [
    {
     "data": {
      "image/png": "[encoded data removed]",
      "text/plain": [
       "<Figure size 1000x1000 with 2 Axes>"
      ]
     },
     "metadata": {},
     "output_type": "display_data"
    }
   ],
   "source": [
    "plt.figure(figsize =(10,10))\n",
    "sns.heatmap(vehicle.corr().abs())\n",
    "plt.show()"
   ]
  },
  {
   "cell_type": "markdown",
   "id": "35de26bf",
   "metadata": {},
   "source": [
    "Attribute **`class`** doesn't have a strong correlation with any of the columns but the following columns given below are highly correlated with each other and thus, one of them can be removed:\n",
    "\n",
    "1. **`scaled_radius_of_gyration.1`** and **`hollows_ratio`**\n",
    "2. **`scaled_radius_of_gyration.1`** and **`skewness_about.2`**\n",
    "3. **`skewness_about.2`** and **`hollows_ratio`**\n",
    "\n",
    "The following columns are strongly correlated with a lot of columns and can also be removed:\n",
    "1. **`compactness`**\n",
    "2. **`circularity`**\n",
    "3. **`distance_circularity`**\n",
    "4. **`radius_ratio`**\n",
    "5. **`scatter_ratio`**\n",
    "6. **`elongatedness`**\n",
    "7. **`pr.axis_rectangularity`**\n",
    "8. **`max.length_rectangularity`**\n",
    "9. **`scaled_variance`**\n",
    "10. **`scaled_variance.1`**\n",
    "11. **`scaled_radius_of_gyration`**\n",
    "\n",
    "So let's remove all the above 11 columns and **`scaled_radius_of_gyration.1`** and **`skewness_about.2`**."
   ]
  },
  {
   "cell_type": "code",
   "execution_count": 44,
   "id": "37ec2e60",
   "metadata": {},
   "outputs": [],
   "source": [
    "colsToRemove = [\"scaled_radius_of_gyration.1\",\n",
    "               \"skewness_about.2\",\n",
    "               \"compactness\",\n",
    "                \"circularity\",\n",
    "                \"distance_circularity\",\n",
    "                \"radius_ratio\",\n",
    "                \"scatter_ratio\",\n",
    "                \"elongatedness\",\n",
    "                \"pr.axis_rectangularity\",\n",
    "                \"max.length_rectangularity\",\n",
    "                \"scaled_variance\",\n",
    "                \"scaled_variance.1\",\n",
    "                \"scaled_radius_of_gyration\"]"
   ]
  },
  {
   "cell_type": "code",
   "execution_count": 45,
   "id": "61ad3ad8",
   "metadata": {},
   "outputs": [],
   "source": [
    "vehicle_EDA = vehicle.drop(colsToRemove,axis=1)"
   ]
  },
  {
   "cell_type": "code",
   "execution_count": 47,
   "id": "b858dda6",
   "metadata": {},
   "outputs": [
    {
     "data": {
      "text/plain": [
       "(826, 6)"
      ]
     },
     "execution_count": 47,
     "metadata": {},
     "output_type": "execute_result"
    }
   ],
   "source": [
    "vehicle_EDA.shape"
   ]
  },
  {
   "cell_type": "markdown",
   "id": "385552e9",
   "metadata": {},
   "source": [
    "So, we have to now work with only 6 columns and 826 samples."
   ]
  },
  {
   "cell_type": "markdown",
   "id": "a88cd0ca",
   "metadata": {},
   "source": [
    "# Step C: - Splitting the Data"
   ]
  },
  {
   "cell_type": "code",
   "execution_count": 48,
   "id": "7e81f8aa",
   "metadata": {},
   "outputs": [],
   "source": [
    "#Necesaary import\n",
    "from sklearn.model_selection import train_test_split"
   ]
  },
  {
   "cell_type": "code",
   "execution_count": 49,
   "id": "4fd11228",
   "metadata": {},
   "outputs": [],
   "source": [
    "#specifying the random state to allow reproducibilty\n",
    "random_state =42"
   ]
  },
  {
   "cell_type": "code",
   "execution_count": 50,
   "id": "4dffcc0a",
   "metadata": {},
   "outputs": [],
   "source": [
    "X = vehicle_EDA.drop(\"class\",axis =1)"
   ]
  },
  {
   "cell_type": "code",
   "execution_count": 51,
   "id": "2ce822d4",
   "metadata": {},
   "outputs": [],
   "source": [
    "y = vehicle_EDA[\"class\"]"
   ]
  },
  {
   "cell_type": "markdown",
   "id": "d80cf58d",
   "metadata": {},
   "source": [
    "Let's see for 70:30 split."
   ]
  },
  {
   "cell_type": "code",
   "execution_count": 52,
   "id": "3a80f349",
   "metadata": {},
   "outputs": [],
   "source": [
    "X_train, X_test, y_train, y_test = train_test_split(X,y,test_size=0.3,random_state=random_state)"
   ]
  },
  {
   "cell_type": "code",
   "execution_count": 53,
   "id": "303c6338",
   "metadata": {},
   "outputs": [
    {
     "data": {
      "text/plain": [
       "(578, 5)"
      ]
     },
     "execution_count": 53,
     "metadata": {},
     "output_type": "execute_result"
    }
   ],
   "source": [
    "X_train.shape"
   ]
  },
  {
   "cell_type": "code",
   "execution_count": 54,
   "id": "548a36ec",
   "metadata": {},
   "outputs": [
    {
     "data": {
      "text/plain": [
       "(248, 5)"
      ]
     },
     "execution_count": 54,
     "metadata": {},
     "output_type": "execute_result"
    }
   ],
   "source": [
    "X_test.shape"
   ]
  },
  {
   "cell_type": "markdown",
   "id": "12651d6c",
   "metadata": {},
   "source": [
    "# Step D :- Training a SVM model"
   ]
  },
  {
   "cell_type": "code",
   "execution_count": 55,
   "id": "942d9e23",
   "metadata": {},
   "outputs": [],
   "source": [
    "#Necessary import \n",
    "from sklearn.svm import SVC"
   ]
  },
  {
   "cell_type": "code",
   "execution_count": 56,
   "id": "2ecf196e",
   "metadata": {},
   "outputs": [],
   "source": [
    "model = SVC(kernel =\"rbf\")"
   ]
  },
  {
   "cell_type": "code",
   "execution_count": 57,
   "id": "59eef843",
   "metadata": {},
   "outputs": [
    {
     "data": {
      "text/plain": [
       "SVC()"
      ]
     },
     "execution_count": 57,
     "metadata": {},
     "output_type": "execute_result"
    }
   ],
   "source": [
    "model.fit(X_train,y_train)"
   ]
  },
  {
   "cell_type": "code",
   "execution_count": 58,
   "id": "c49d04aa",
   "metadata": {},
   "outputs": [
    {
     "data": {
      "text/plain": [
       "0.7096774193548387"
      ]
     },
     "execution_count": 58,
     "metadata": {},
     "output_type": "execute_result"
    }
   ],
   "source": [
    "model.score(X_test,y_test)"
   ]
  },
  {
   "cell_type": "markdown",
   "id": "25519545",
   "metadata": {},
   "source": [
    "With the default parameter values, the SVM model gives an accuracy of 70.97%.\n",
    "\n",
    "So now let's try using GridSearchCV for hyperparameter tuning."
   ]
  },
  {
   "cell_type": "code",
   "execution_count": 59,
   "id": "b2b358d0",
   "metadata": {},
   "outputs": [],
   "source": [
    "param_grid = {\"C\":[1,10,100,1000],\n",
    "             \"gamma\":[0.01,0.1,1,10,100],\n",
    "             \"kernel\":[\"rbf\",\"linear\"]}"
   ]
  },
  {
   "cell_type": "code",
   "execution_count": 60,
   "id": "d5d08293",
   "metadata": {},
   "outputs": [],
   "source": [
    "# Necessary import.\n",
    "from sklearn.model_selection import GridSearchCV"
   ]
  },
  {
   "cell_type": "code",
   "execution_count": 61,
   "id": "d2bf4440",
   "metadata": {},
   "outputs": [],
   "source": [
    "grid = GridSearchCV(SVC(), param_grid, verbose=3, cv=2, n_jobs=2, return_train_score=True)"
   ]
  },
  {
   "cell_type": "code",
   "execution_count": 62,
   "id": "916c8c57",
   "metadata": {},
   "outputs": [
    {
     "name": "stdout",
     "output_type": "stream",
     "text": [
      "Fitting 2 folds for each of 40 candidates, totalling 80 fits\n"
     ]
    },
    {
     "data": {
      "text/plain": [
       "GridSearchCV(cv=2, estimator=SVC(), n_jobs=2,\n",
       "             param_grid={'C': [1, 10, 100, 1000],\n",
       "                         'gamma': [0.01, 0.1, 1, 10, 100],\n",
       "                         'kernel': ['rbf', 'linear']},\n",
       "             return_train_score=True, verbose=3)"
      ]
     },
     "execution_count": 62,
     "metadata": {},
     "output_type": "execute_result"
    }
   ],
   "source": [
    "grid.fit(X_train,y_train)"
   ]
  },
  {
   "cell_type": "code",
   "execution_count": 63,
   "id": "09c38a30",
   "metadata": {},
   "outputs": [
    {
     "name": "stdout",
     "output_type": "stream",
     "text": [
      "{'C': 10, 'gamma': 0.1, 'kernel': 'rbf'}\n"
     ]
    }
   ],
   "source": [
    "print(grid.best_params_)"
   ]
  },
  {
   "cell_type": "code",
   "execution_count": 64,
   "id": "58223b31",
   "metadata": {},
   "outputs": [],
   "source": [
    "model = SVC(C=10,gamma=0.1,kernel=\"rbf\")"
   ]
  },
  {
   "cell_type": "code",
   "execution_count": 65,
   "id": "7ecd7562",
   "metadata": {},
   "outputs": [
    {
     "data": {
      "text/plain": [
       "SVC(C=10, gamma=0.1)"
      ]
     },
     "execution_count": 65,
     "metadata": {},
     "output_type": "execute_result"
    }
   ],
   "source": [
    "model.fit(X_train,y_train)"
   ]
  },
  {
   "cell_type": "code",
   "execution_count": 66,
   "id": "31fa9e77",
   "metadata": {},
   "outputs": [],
   "source": [
    "pred = model.predict(X_test)"
   ]
  },
  {
   "cell_type": "code",
   "execution_count": 67,
   "id": "d468e78b",
   "metadata": {},
   "outputs": [],
   "source": [
    "# Necessary imports.\n",
    "from sklearn.metrics import classification_report"
   ]
  },
  {
   "cell_type": "code",
   "execution_count": 68,
   "id": "5ddabfd3",
   "metadata": {},
   "outputs": [
    {
     "name": "stdout",
     "output_type": "stream",
     "text": [
      "              precision    recall  f1-score   support\n",
      "\n",
      "           0       0.46      0.34      0.39        53\n",
      "           1       0.76      0.83      0.79       130\n",
      "           2       0.79      0.80      0.79        65\n",
      "\n",
      "    accuracy                           0.72       248\n",
      "   macro avg       0.67      0.66      0.66       248\n",
      "weighted avg       0.70      0.72      0.71       248\n",
      "\n"
     ]
    }
   ],
   "source": [
    "print(classification_report(y_test,pred))"
   ]
  },
  {
   "cell_type": "code",
   "execution_count": 69,
   "id": "9148a236",
   "metadata": {},
   "outputs": [
    {
     "data": {
      "text/plain": [
       "0.717741935483871"
      ]
     },
     "execution_count": 69,
     "metadata": {},
     "output_type": "execute_result"
    }
   ],
   "source": [
    "model.score(X_test,y_test)"
   ]
  },
  {
   "cell_type": "markdown",
   "id": "7af00b5d",
   "metadata": {},
   "source": [
    "We obtained an accuracy of 71.77% on the dataset."
   ]
  },
  {
   "cell_type": "markdown",
   "id": "b4fab931",
   "metadata": {},
   "source": [
    "# Step E : - Applying K-fold CV"
   ]
  },
  {
   "cell_type": "code",
   "execution_count": 70,
   "id": "444d37ce",
   "metadata": {},
   "outputs": [],
   "source": [
    "# Necessary import.\n",
    "from sklearn.model_selection import cross_val_score"
   ]
  },
  {
   "cell_type": "code",
   "execution_count": 71,
   "id": "45c98298",
   "metadata": {},
   "outputs": [],
   "source": [
    "model = SVC(kernel=\"rbf\",C=10,gamma=0.1)"
   ]
  },
  {
   "cell_type": "code",
   "execution_count": 72,
   "id": "612a7a44",
   "metadata": {},
   "outputs": [
    {
     "data": {
      "text/plain": [
       "array([0.75903614, 0.73939394, 0.75757576, 0.75151515, 0.76363636])"
      ]
     },
     "execution_count": 72,
     "metadata": {},
     "output_type": "execute_result"
    }
   ],
   "source": [
    "scores = cross_val_score(model,X,y,cv=5)\n",
    "scores"
   ]
  },
  {
   "cell_type": "code",
   "execution_count": 73,
   "id": "809d20e6",
   "metadata": {},
   "outputs": [
    {
     "name": "stdout",
     "output_type": "stream",
     "text": [
      "Accuracy: 0.75 (+/- 0.02)\n"
     ]
    }
   ],
   "source": [
    "print(\"Accuracy: %0.2f (+/- %0.2f)\" % (scores.mean(), scores.std() * 2))"
   ]
  },
  {
   "cell_type": "markdown",
   "id": "9dc0a8f2",
   "metadata": {},
   "source": [
    "The cross validation score gives an accuracy of 75%  ±2%"
   ]
  },
  {
   "cell_type": "markdown",
   "id": "11c6b384",
   "metadata": {},
   "source": [
    "# Step F :- Principal Component Analysis"
   ]
  },
  {
   "cell_type": "code",
   "execution_count": 74,
   "id": "73ac4680",
   "metadata": {},
   "outputs": [],
   "source": [
    "# Necessary import.\n",
    "from sklearn.decomposition import PCA"
   ]
  },
  {
   "cell_type": "code",
   "execution_count": 75,
   "id": "f52544e2",
   "metadata": {},
   "outputs": [],
   "source": [
    "pca = PCA(n_components=10)"
   ]
  },
  {
   "cell_type": "code",
   "execution_count": 76,
   "id": "3fb153a8",
   "metadata": {},
   "outputs": [],
   "source": [
    "X = vehicle.drop(\"class\",axis=1)\n",
    "y = vehicle[\"class\"]"
   ]
  },
  {
   "cell_type": "code",
   "execution_count": 77,
   "id": "7a0abfdc",
   "metadata": {},
   "outputs": [
    {
     "data": {
      "text/plain": [
       "PCA(n_components=10)"
      ]
     },
     "execution_count": 77,
     "metadata": {},
     "output_type": "execute_result"
    }
   ],
   "source": [
    "pca.fit(X)"
   ]
  },
  {
   "cell_type": "code",
   "execution_count": 78,
   "id": "4a253943",
   "metadata": {},
   "outputs": [
    {
     "data": {
      "image/png": "[encoded data removed]",
      "text/plain": [
       "<Figure size 640x480 with 1 Axes>"
      ]
     },
     "metadata": {},
     "output_type": "display_data"
    }
   ],
   "source": [
    "plt.step(list(range(1,11)),np.cumsum(pca.explained_variance_ratio_), where='mid')\n",
    "plt.ylabel('Cum of variation explained')\n",
    "plt.xlabel('Number of components')\n",
    "plt.show()"
   ]
  },
  {
   "cell_type": "markdown",
   "id": "4c826bda",
   "metadata": {},
   "source": [
    "By observing the above graph we can infer that 95% variance is being explained by only 6 principal components so we'll use that only."
   ]
  },
  {
   "cell_type": "code",
   "execution_count": 79,
   "id": "93e58c74",
   "metadata": {},
   "outputs": [],
   "source": [
    "pca = PCA(n_components=6)\n",
    "pca.fit(X)\n",
    "components = pca.components_"
   ]
  },
  {
   "cell_type": "code",
   "execution_count": 80,
   "id": "65999c99",
   "metadata": {},
   "outputs": [],
   "source": [
    "# Transforming data to these components.\n",
    "Xpca = pca.transform(X)"
   ]
  },
  {
   "cell_type": "markdown",
   "id": "012ca3cc",
   "metadata": {},
   "source": [
    "# Step G :- SVM and K-fold CV"
   ]
  },
  {
   "cell_type": "code",
   "execution_count": 81,
   "id": "efc8731a",
   "metadata": {},
   "outputs": [],
   "source": [
    "X_train, X_test, y_train, y_test = train_test_split(Xpca,y,test_size=0.3,random_state=random_state)"
   ]
  },
  {
   "cell_type": "markdown",
   "id": "01058338",
   "metadata": {},
   "source": [
    "Now let's train the SVM model."
   ]
  },
  {
   "cell_type": "code",
   "execution_count": 82,
   "id": "495a88ae",
   "metadata": {},
   "outputs": [],
   "source": [
    "model = SVC()"
   ]
  },
  {
   "cell_type": "code",
   "execution_count": 83,
   "id": "6bf986ad",
   "metadata": {},
   "outputs": [
    {
     "data": {
      "text/plain": [
       "SVC()"
      ]
     },
     "execution_count": 83,
     "metadata": {},
     "output_type": "execute_result"
    }
   ],
   "source": [
    "model.fit(X_train,y_train)"
   ]
  },
  {
   "cell_type": "code",
   "execution_count": 84,
   "id": "6f4f7a4f",
   "metadata": {},
   "outputs": [
    {
     "data": {
      "text/plain": [
       "0.8991935483870968"
      ]
     },
     "execution_count": 84,
     "metadata": {},
     "output_type": "execute_result"
    }
   ],
   "source": [
    "model.score(X_test,y_test)"
   ]
  },
  {
   "cell_type": "markdown",
   "id": "c6196f57",
   "metadata": {},
   "source": [
    "For the default values, we are getting a score of 90.32% on test set.\n",
    "\n",
    "So now let's use hyperparameter tuning to get best parameters."
   ]
  },
  {
   "cell_type": "code",
   "execution_count": 85,
   "id": "5f2d33a9",
   "metadata": {},
   "outputs": [],
   "source": [
    "grid = GridSearchCV(SVC(), param_grid, verbose=3, cv=2, n_jobs=2, return_train_score=True)"
   ]
  },
  {
   "cell_type": "code",
   "execution_count": 86,
   "id": "d05a194a",
   "metadata": {},
   "outputs": [
    {
     "name": "stdout",
     "output_type": "stream",
     "text": [
      "Fitting 2 folds for each of 40 candidates, totalling 80 fits\n"
     ]
    },
    {
     "data": {
      "text/plain": [
       "GridSearchCV(cv=2, estimator=SVC(), n_jobs=2,\n",
       "             param_grid={'C': [1, 10, 100, 1000],\n",
       "                         'gamma': [0.01, 0.1, 1, 10, 100],\n",
       "                         'kernel': ['rbf', 'linear']},\n",
       "             return_train_score=True, verbose=3)"
      ]
     },
     "execution_count": 86,
     "metadata": {},
     "output_type": "execute_result"
    }
   ],
   "source": [
    "grid.fit(X_train,y_train)"
   ]
  },
  {
   "cell_type": "code",
   "execution_count": 87,
   "id": "5920c2dc",
   "metadata": {},
   "outputs": [
    {
     "name": "stdout",
     "output_type": "stream",
     "text": [
      "{'C': 100, 'gamma': 0.01, 'kernel': 'rbf'}\n"
     ]
    }
   ],
   "source": [
    "print(grid.best_params_)"
   ]
  },
  {
   "cell_type": "code",
   "execution_count": 88,
   "id": "fd964948",
   "metadata": {},
   "outputs": [],
   "source": [
    "model = SVC(C=100,gamma=0.01,kernel=\"rbf\")"
   ]
  },
  {
   "cell_type": "code",
   "execution_count": 89,
   "id": "1461616f",
   "metadata": {},
   "outputs": [
    {
     "data": {
      "text/plain": [
       "SVC(C=100, gamma=0.01)"
      ]
     },
     "execution_count": 89,
     "metadata": {},
     "output_type": "execute_result"
    }
   ],
   "source": [
    "model.fit(X_train,y_train)"
   ]
  },
  {
   "cell_type": "code",
   "execution_count": 90,
   "id": "d0fc19d3",
   "metadata": {},
   "outputs": [],
   "source": [
    "pred = model.predict(X_test)"
   ]
  },
  {
   "cell_type": "code",
   "execution_count": 91,
   "id": "d355a7a0",
   "metadata": {},
   "outputs": [
    {
     "name": "stdout",
     "output_type": "stream",
     "text": [
      "              precision    recall  f1-score   support\n",
      "\n",
      "           0       0.84      0.89      0.86        53\n",
      "           1       0.95      0.90      0.92       130\n",
      "           2       0.90      0.95      0.93        65\n",
      "\n",
      "    accuracy                           0.91       248\n",
      "   macro avg       0.90      0.91      0.90       248\n",
      "weighted avg       0.91      0.91      0.91       248\n",
      "\n"
     ]
    }
   ],
   "source": [
    "print(classification_report(y_test,pred))"
   ]
  },
  {
   "cell_type": "code",
   "execution_count": 92,
   "id": "26502ef3",
   "metadata": {},
   "outputs": [
    {
     "data": {
      "text/plain": [
       "0.9112903225806451"
      ]
     },
     "execution_count": 92,
     "metadata": {},
     "output_type": "execute_result"
    }
   ],
   "source": [
    "model.score(X_test, y_test)"
   ]
  },
  {
   "cell_type": "markdown",
   "id": "076b5b31",
   "metadata": {},
   "source": [
    "By using SVM with principal components we're able to get around 91.13% accuracy."
   ]
  },
  {
   "cell_type": "markdown",
   "id": "98846b4a",
   "metadata": {},
   "source": [
    "Now let's perform K-Fold CV."
   ]
  },
  {
   "cell_type": "code",
   "execution_count": 94,
   "id": "97e7772f",
   "metadata": {},
   "outputs": [],
   "source": [
    "scores = cross_val_score(model,Xpca,y,cv=5)"
   ]
  },
  {
   "cell_type": "markdown",
   "id": "a350ad54",
   "metadata": {},
   "source": [
    "We can infer here that were able to get an accuracy of 93% $\\pm$ 4%."
   ]
  },
  {
   "cell_type": "markdown",
   "id": "b4575b7e",
   "metadata": {},
   "source": [
    "# Step H :- Final Comparision."
   ]
  },
  {
   "cell_type": "markdown",
   "id": "5249acdd",
   "metadata": {},
   "source": [
    "As we saw, without using principal components, we were only able to get an accuracy of 71.77% on test set and a K-Fold CV score of 75%, whereas, with 6 principal components, we were able to get an accuracy of 91.13% on test set and a K-Fold CV score of 93%.\n",
    "\n",
    "This shows that PCA is very powerful at transforming data to components which can explain maximum variance (95% variance was explained by the 6 components). While this definitely shows how useful a tool PCA is, it also removes the explainability part from the components."
   ]
  }
 ],
 "metadata": {
  "kernelspec": {
   "display_name": "Python 3 (ipykernel)",
   "language": "python",
   "name": "python3"
  },
  "language_info": {
   "codemirror_mode": {
    "name": "ipython",
    "version": 3
   },
   "file_extension": ".py",
   "mimetype": "text/x-python",
   "name": "python",
   "nbconvert_exporter": "python",
   "pygments_lexer": "ipython3",
   "version": "3.11.4"
  }
 },
 "nbformat": 4,
 "nbformat_minor": 5
}
